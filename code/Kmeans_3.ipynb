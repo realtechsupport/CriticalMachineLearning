{
  "cells": [
    {
      "cell_type": "code",
      "execution_count": null,
      "metadata": {
        "id": "Xk8R1rXRVpBG"
      },
      "outputs": [],
      "source": [
        "# k-means for image compression\n",
        "# https://jakevdp.github.io/PythonDataScienceHandbook/05.11-k-means.html\n",
        "\n",
        "import numpy\n",
        "import pandas\n",
        "from matplotlib import pyplot as plt\n",
        "from sklearn.datasets import make_blobs\n",
        "from sklearn.cluster import KMeans"
      ]
    },
    {
      "cell_type": "code",
      "execution_count": null,
      "metadata": {
        "id": "NTcwhqG-pfOX"
      },
      "outputs": [],
      "source": [
        "import sys\n",
        "#clear all variables (from last session)\n",
        "sys.modules[__name__].__dict__.clear()\n",
        "import os, sys, time, random, itertools, shutil\n",
        "\n",
        "from google.colab import drive\n",
        "drive.mount('/content/drive', force_remount=True)\n",
        "\n",
        "from IPython.core.display import display, HTML\n",
        "display(HTML(\"<style>.container { width:100% !important; }</style>\"))\n",
        "\n",
        "start = '/content/drive/MyDrive/'\n",
        "datapath = start + 'data/'"
      ]
    },
    {
      "cell_type": "code",
      "execution_count": null,
      "metadata": {
        "id": "tfRVckrxfQDS"
      },
      "outputs": [],
      "source": [
        "import cv2 as cv \n",
        "from google.colab.patches import cv2_imshow # for image display\n",
        "from skimage import io\n",
        "from PIL import Image \n",
        "\n",
        "url = 'https://upload.wikimedia.org/wikipedia/en/f/fe/PilatusNearLucernFromAbove.jpg'\n"
      ]
    },
    {
      "cell_type": "code",
      "execution_count": null,
      "metadata": {
        "colab": {
          "background_save": true
        },
        "id": "UQSEyPe9woE6"
      },
      "outputs": [],
      "source": [
        "  image = io.imread(url) \n",
        "  image_rgb = cv.cvtColor(image, cv.COLOR_BGR2RGB)\n",
        "  cv2_imshow(image_rgb)\n",
        "  print('\\n')"
      ]
    },
    {
      "cell_type": "code",
      "execution_count": null,
      "metadata": {
        "id": "LDyD3YRjyXBD"
      },
      "outputs": [],
      "source": [
        "\n",
        "shape = image_rgb.shape\n",
        "print(shape)\n"
      ]
    },
    {
      "cell_type": "code",
      "execution_count": null,
      "metadata": {
        "id": "ROWKfe4Sy0Lx"
      },
      "outputs": [],
      "source": [
        "#data = image_rgb / 255.0   # use 0...1 scale\n",
        "data = image / 255.0   # use 0...1 scale\n",
        "data = data.reshape(shape[0]*shape[1], shape[2])\n",
        "print(data.shape)"
      ]
    },
    {
      "cell_type": "code",
      "execution_count": null,
      "metadata": {
        "id": "xX8N0V4pzcWo"
      },
      "outputs": [],
      "source": [
        "def plot_pixels(data, title, colors=None, N=10000):\n",
        "    if colors is None:\n",
        "        colors = data\n",
        "    \n",
        "    # choose a random subset\n",
        "    rng = numpy.random.RandomState(0)\n",
        "    i = rng.permutation(data.shape[0])[:N]\n",
        "    colors = colors[i]\n",
        "    R, G, B = data[i].T\n",
        "    \n",
        "    fig, ax = plt.subplots(1, 2, figsize=(16, 6))\n",
        "    ax[0].scatter(R, G, color=colors, marker='.')\n",
        "    ax[0].set(xlabel='Red', ylabel='Green', xlim=(0, 1), ylim=(0, 1))\n",
        "\n",
        "    ax[1].scatter(R, B, color=colors, marker='.')\n",
        "    ax[1].set(xlabel='Red', ylabel='Blue', xlim=(0, 1), ylim=(0, 1))\n",
        "\n",
        "    fig.suptitle(title, size=20);\n"
      ]
    },
    {
      "cell_type": "code",
      "execution_count": null,
      "metadata": {
        "id": "mDJioh97zfJ6"
      },
      "outputs": [],
      "source": [
        "plot_pixels(data, title='Input color space: 16 million possible colors')"
      ]
    },
    {
      "cell_type": "code",
      "execution_count": null,
      "metadata": {
        "id": "IaSjXtf_00SW"
      },
      "outputs": [],
      "source": [
        "#now lets use only 8 colors\n",
        "from sklearn.cluster import MiniBatchKMeans\n",
        "\n",
        "kmeans = MiniBatchKMeans(8)\n",
        "kmeans.fit(data)\n",
        "new_colors = kmeans.cluster_centers_[kmeans.predict(data)]\n",
        "\n",
        "plot_pixels(data, colors=new_colors, title=\"Reduced color space: 8 colors\")"
      ]
    },
    {
      "cell_type": "code",
      "execution_count": null,
      "metadata": {
        "id": "C1Jsnwsn0-1m"
      },
      "outputs": [],
      "source": [
        "#image_rgb_recolored = new_colors.reshape(image_rgb.shape)\n",
        "image_rgb_recolored = new_colors.reshape(image.shape)\n",
        "\n",
        "fig, ax = plt.subplots(1, 2, figsize=(16, 6), subplot_kw=dict(xticks=[], yticks=[]))\n",
        "fig.subplots_adjust(wspace=0.05)\n",
        "\n",
        "ax[0].imshow(image)\n",
        "ax[0].set_title('Original Image', size=16)\n",
        "\n",
        "ax[1].imshow(image_rgb_recolored)\n",
        "ax[1].set_title('8-color Image', size=16);"
      ]
    }
  ],
  "metadata": {
    "colab": {
      "collapsed_sections": [],
      "provenance": []
    },
    "kernelspec": {
      "display_name": "Python 3",
      "name": "python3"
    },
    "language_info": {
      "name": "python"
    }
  },
  "nbformat": 4,
  "nbformat_minor": 0
}