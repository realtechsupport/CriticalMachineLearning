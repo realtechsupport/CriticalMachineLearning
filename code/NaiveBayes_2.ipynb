{
  "nbformat": 4,
  "nbformat_minor": 0,
  "metadata": {
    "colab": {
      "provenance": [],
      "collapsed_sections": []
    },
    "kernelspec": {
      "name": "python3",
      "display_name": "Python 3"
    },
    "language_info": {
      "name": "python"
    }
  },
  "cells": [
    {
      "cell_type": "code",
      "metadata": {
        "id": "RmJik6IatA7h"
      },
      "source": [
        "# example of text classification\n",
        "# https://jakevdp.github.io/PythonDataScienceHandbook/05.05-naive-bayes.html\n",
        "# April 2021"
      ],
      "execution_count": null,
      "outputs": []
    },
    {
      "cell_type": "code",
      "metadata": {
        "colab": {
          "base_uri": "https://localhost:8080/",
          "height": 17
        },
        "id": "72Aj7n7MtziT",
        "outputId": "4510de90-6942-4080-9fd9-1ec82979f82c"
      },
      "source": [
        "import sys\n",
        "#clear all variables (from last session)\n",
        "sys.modules[__name__].__dict__.clear()\n",
        "import os, sys, time, random, itertools, shutil\n",
        "from IPython.core.display import display, HTML\n",
        "display(HTML(\"<style>.container { width:100% !important; }</style>\"))"
      ],
      "execution_count": null,
      "outputs": [
        {
          "output_type": "display_data",
          "data": {
            "text/html": [
              "<style>.container { width:100% !important; }</style>"
            ],
            "text/plain": [
              "<IPython.core.display.HTML object>"
            ]
          },
          "metadata": {}
        }
      ]
    },
    {
      "cell_type": "code",
      "metadata": {
        "id": "dWAK6D2aEe3s",
        "colab": {
          "base_uri": "https://localhost:8080/"
        },
        "outputId": "15627555-d306-455c-ab4d-d2284c5fe3d1"
      },
      "source": [
        "from sklearn.datasets import fetch_20newsgroups\n",
        "data = fetch_20newsgroups()\n",
        "print(data.target_names)\n",
        "print(len(data.target_names))"
      ],
      "execution_count": null,
      "outputs": [
        {
          "output_type": "stream",
          "name": "stdout",
          "text": [
            "['alt.atheism', 'comp.graphics', 'comp.os.ms-windows.misc', 'comp.sys.ibm.pc.hardware', 'comp.sys.mac.hardware', 'comp.windows.x', 'misc.forsale', 'rec.autos', 'rec.motorcycles', 'rec.sport.baseball', 'rec.sport.hockey', 'sci.crypt', 'sci.electronics', 'sci.med', 'sci.space', 'soc.religion.christian', 'talk.politics.guns', 'talk.politics.mideast', 'talk.politics.misc', 'talk.religion.misc']\n",
            "20\n"
          ]
        }
      ]
    },
    {
      "cell_type": "code",
      "metadata": {
        "id": "g76116QpXaq_"
      },
      "source": [
        "selected_categories = ['talk.religion.misc', 'soc.religion.christian','sci.space', 'comp.graphics', 'alt.atheism', 'comp.graphics', 'comp.os.ms-windows.misc', 'comp.sys.ibm.pc.hardware']\n",
        "train = fetch_20newsgroups(subset='train', categories=selected_categories)\n",
        "test = fetch_20newsgroups(subset='test', categories=selected_categories)"
      ],
      "execution_count": null,
      "outputs": []
    },
    {
      "cell_type": "code",
      "metadata": {
        "id": "tmm_WHgfbUyy"
      },
      "source": [
        "#get and example of the training data\n",
        "print(train.data[3])\n",
        "print(len(train.data))"
      ],
      "execution_count": null,
      "outputs": []
    },
    {
      "cell_type": "code",
      "metadata": {
        "id": "oe0s2PWObhZj"
      },
      "source": [
        "# use the TF-IDF vectorizerand create a pipeline that attaches it to a multinomial naive Bayes classifier\n",
        "from sklearn.feature_extraction.text import TfidfVectorizer\n",
        "from sklearn.naive_bayes import MultinomialNB\n",
        "from sklearn.pipeline import make_pipeline\n",
        "\n",
        "model = make_pipeline(TfidfVectorizer(), MultinomialNB())"
      ],
      "execution_count": null,
      "outputs": []
    },
    {
      "cell_type": "code",
      "metadata": {
        "id": "WlLR0I_Vbw2y"
      },
      "source": [
        "# fit the model to the data\n",
        "model.fit(train.data, train.target)\n",
        "labels = model.predict(test.data)"
      ],
      "execution_count": null,
      "outputs": []
    },
    {
      "cell_type": "code",
      "metadata": {
        "colab": {
          "base_uri": "https://localhost:8080/",
          "height": 541
        },
        "id": "AJuA06DWb5Dx",
        "outputId": "0fc07f5d-0625-407c-a37a-1fdfc10f2aa0"
      },
      "source": [
        "# show a heat map aka confusion matrix of the results\n",
        "from sklearn.metrics import confusion_matrix\n",
        "import seaborn\n",
        "import matplotlib.pyplot as plt\n",
        "\n",
        "mat = confusion_matrix(test.target, labels)\n",
        "print(mat)\n",
        "seaborn.heatmap(mat.T, square=True, annot=True, fmt='d', cbar=False, xticklabels=train.target_names, yticklabels=train.target_names)\n",
        "plt.title('confusion matrix')\n",
        "plt.xlabel('true label')\n",
        "plt.ylabel('predicted label');"
      ],
      "execution_count": null,
      "outputs": [
        {
          "output_type": "stream",
          "name": "stdout",
          "text": [
            "[[168   1   0   2   4 144   0]\n",
            " [  1 297  18  23  12  38   0]\n",
            " [  1  21 267  60   7  38   0]\n",
            " [  0   7  17 351   7  10   0]\n",
            " [  0   3   0   2 364  25   0]\n",
            " [  2   1   0   1   5 389   0]\n",
            " [ 32   3   1   0   6 167  42]]\n"
          ]
        },
        {
          "output_type": "display_data",
          "data": {
            "image/png": "[encoded data removed]",
            "text/plain": [
              "<Figure size 432x288 with 1 Axes>"
            ]
          },
          "metadata": {
            "needs_background": "light"
          }
        }
      ]
    },
    {
      "cell_type": "code",
      "metadata": {
        "id": "lnt6OsuJcZt4"
      },
      "source": [
        "# map label to category\n",
        "def predict_category(s, train=train, model=model):\n",
        "    predict = model.predict([s])\n",
        "    return (train.target_names[predict[0]])"
      ],
      "execution_count": null,
      "outputs": []
    },
    {
      "cell_type": "code",
      "metadata": {
        "colab": {
          "base_uri": "https://localhost:8080/"
        },
        "id": "DKodoGaGcrul",
        "outputId": "87468323-96e2-4548-87ae-7a9593c7e97f"
      },
      "source": [
        "predicted_category = predict_category('sending a payload to the ISS, those damn russians !')\n",
        "print(predicted_category)"
      ],
      "execution_count": null,
      "outputs": [
        {
          "output_type": "stream",
          "name": "stdout",
          "text": [
            "sci.space\n"
          ]
        }
      ]
    },
    {
      "cell_type": "code",
      "metadata": {
        "colab": {
          "base_uri": "https://localhost:8080/"
        },
        "id": "zRbveCTzcuUs",
        "outputId": "3b450bc7-9c73-471a-fe70-a760decd3e2f"
      },
      "source": [
        "predicted_category = predict_category('discussing islam vs atheism on a mac pro')\n",
        "print(predicted_category)"
      ],
      "execution_count": null,
      "outputs": [
        {
          "output_type": "stream",
          "name": "stdout",
          "text": [
            "alt.atheism\n"
          ]
        }
      ]
    },
    {
      "cell_type": "code",
      "metadata": {
        "colab": {
          "base_uri": "https://localhost:8080/"
        },
        "id": "YDpsaUdBc7qy",
        "outputId": "f49c7467-9b2a-4814-f23e-e72ffe756cf9"
      },
      "source": [
        "#now try this:\n",
        "predicted_category = predict_category('discussing islam vs chocolate icecream on a windows pc not a mac')\n",
        "print(predicted_category)"
      ],
      "execution_count": null,
      "outputs": [
        {
          "output_type": "stream",
          "name": "stdout",
          "text": [
            "comp.sys.ibm.pc.hardware\n"
          ]
        }
      ]
    },
    {
      "cell_type": "code",
      "metadata": {
        "colab": {
          "base_uri": "https://localhost:8080/"
        },
        "id": "NvxPrY7qdCwY",
        "outputId": "013db969-3596-4568-f538-ec967e4ccd2b"
      },
      "source": [
        "#now try this:\n",
        "predicted_category = predict_category('discussing vanilla vs chocolate icecream')\n",
        "print(predicted_category)"
      ],
      "execution_count": null,
      "outputs": [
        {
          "output_type": "stream",
          "name": "stdout",
          "text": [
            "comp.graphics\n"
          ]
        }
      ]
    },
    {
      "cell_type": "code",
      "metadata": {
        "colab": {
          "base_uri": "https://localhost:8080/"
        },
        "id": "-20Cvc5aITRZ",
        "outputId": "a121edaa-7331-475d-be70-6c756b7939f4"
      },
      "source": [
        "#now try this:\n",
        "predicted_category = predict_category('thinking about the next mega million')\n",
        "print(predicted_category)"
      ],
      "execution_count": null,
      "outputs": [
        {
          "output_type": "stream",
          "name": "stdout",
          "text": [
            "sci.space\n"
          ]
        }
      ]
    },
    {
      "cell_type": "code",
      "source": [
        "# Set the data \n",
        "my_selection = ['long live GOD', 'God is dead', 'Aliens are here', 'Aliens are friendly']\n",
        "results = []"
      ],
      "metadata": {
        "id": "6ykYo9_Po6Km"
      },
      "execution_count": null,
      "outputs": []
    },
    {
      "cell_type": "code",
      "source": [
        "# Define a function to. call the trained model,  based on a \n",
        "# previously defined function and the skearn library\n",
        "def check_selection(my_selection):\n",
        "  for item in my_selection:\n",
        "    p_category = predict_category(item)\n",
        "    results.append(p_category)\n",
        "  return(results)\n"
      ],
      "metadata": {
        "id": "HKHNOm8-qHbR"
      },
      "execution_count": null,
      "outputs": []
    },
    {
      "cell_type": "code",
      "source": [
        "# Call the function to print the results\n",
        "output = check_selection(my_selection)\n",
        "print(output)"
      ],
      "metadata": {
        "colab": {
          "base_uri": "https://localhost:8080/"
        },
        "id": "7NvuCGpVqSTA",
        "outputId": "e2603ea5-871d-439c-d7aa-ac56d0e8c6a6"
      },
      "execution_count": null,
      "outputs": [
        {
          "output_type": "stream",
          "name": "stdout",
          "text": [
            "['soc.religion.christian', 'soc.religion.christian', 'soc.religion.christian', 'soc.religion.christian']\n"
          ]
        }
      ]
    }
  ]
}