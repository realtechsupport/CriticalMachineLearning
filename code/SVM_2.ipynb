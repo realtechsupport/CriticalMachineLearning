{
  "nbformat": 4,
  "nbformat_minor": 0,
  "metadata": {
    "colab": {
      "provenance": [],
      "collapsed_sections": []
    },
    "kernelspec": {
      "name": "python3",
      "display_name": "Python 3"
    },
    "language_info": {
      "name": "python"
    }
  },
  "cells": [
    {
      "cell_type": "code",
      "source": [
        "# Support Vector Machine classification\n",
        "# in depth: https://online.stat.psu.edu/stat857/node/211/ \n",
        "# https://scikit-learn.org/stable/modules/svm.html\n",
        "# https://allysonf.medium.com/predict-red-wine-quality-with-svc-decision-tree-and-random-forest-24f83b5f3408 \n",
        "# https://www.sciencedirect.com/science/article/abs/pii/S0167923609001377?via%3Dihub \n",
        "# dataset: https://archive.ics.uci.edu/ml/machine-learning-databases/wine-quality/ \n",
        "# Jan 2022"
      ],
      "metadata": {
        "id": "Q_BjeSdyPCCL"
      },
      "execution_count": null,
      "outputs": []
    },
    {
      "cell_type": "code",
      "execution_count": null,
      "metadata": {
        "id": "kU2vicmpDhQf"
      },
      "outputs": [],
      "source": [
        "import os, sys\n",
        "import numpy\n",
        "import pandas\n",
        "\n",
        "import matplotlib.pyplot as plt\n",
        "from sklearn import datasets\n",
        "from sklearn.model_selection import train_test_split, cross_val_score, GridSearchCV, RandomizedSearchCV\n",
        "from mlxtend.plotting import plot_decision_regions\n",
        "from sklearn.metrics import accuracy_score, confusion_matrix\n",
        "from sklearn.svm import SVC\n",
        "#from sklearn.ensemble import RandomForestClassifier"
      ]
    },
    {
      "cell_type": "code",
      "source": [
        "# Load the red wine dataset\n",
        "from tabulate import tabulate\n",
        "\n",
        "pandas.set_option('display.colheader_justify', 'center')\n",
        "pandas.set_option('display.precision', 3)\n",
        "pandas.set_option('display.colheader_justify', 'center')\n",
        "redwine = pandas.read_csv('https://archive.ics.uci.edu/ml/machine-learning-databases/wine-quality/winequality-red.csv', sep=';')\n",
        "\n",
        "redwine.head()"
      ],
      "metadata": {
        "id": "EBolVQqQajUY",
        "colab": {
          "base_uri": "https://localhost:8080/",
          "height": 285
        },
        "outputId": "be6638d0-37e8-44a1-fa6c-bf1a4356d502"
      },
      "execution_count": null,
      "outputs": [
        {
          "output_type": "execute_result",
          "data": {
            "text/html": [
              "\n",
              "  <div id=\"df-4c454f92-2f46-41fd-858b-cdcefed7dc4d\">\n",
              "    <div class=\"colab-df-container\">\n",
              "      <div>\n",
              "<style scoped>\n",
              "    .dataframe tbody tr th:only-of-type {\n",
              "        vertical-align: middle;\n",
              "    }\n",
              "\n",
              "    .dataframe tbody tr th {\n",
              "        vertical-align: top;\n",
              "    }\n",
              "\n",
              "    .dataframe thead th {\n",
              "        text-align: right;\n",
              "    }\n",
              "</style>\n",
              "<table border=\"1\" class=\"dataframe\">\n",
              "  <thead>\n",
              "    <tr style=\"text-align: center;\">\n",
              "      <th></th>\n",
              "      <th>fixed acidity</th>\n",
              "      <th>volatile acidity</th>\n",
              "      <th>citric acid</th>\n",
              "      <th>residual sugar</th>\n",
              "      <th>chlorides</th>\n",
              "      <th>free sulfur dioxide</th>\n",
              "      <th>total sulfur dioxide</th>\n",
              "      <th>density</th>\n",
              "      <th>pH</th>\n",
              "      <th>sulphates</th>\n",
              "      <th>alcohol</th>\n",
              "      <th>quality</th>\n",
              "    </tr>\n",
              "  </thead>\n",
              "  <tbody>\n",
              "    <tr>\n",
              "      <th>0</th>\n",
              "      <td>7.4</td>\n",
              "      <td>0.70</td>\n",
              "      <td>0.00</td>\n",
              "      <td>1.9</td>\n",
              "      <td>0.076</td>\n",
              "      <td>11.0</td>\n",
              "      <td>34.0</td>\n",
              "      <td>0.998</td>\n",
              "      <td>3.51</td>\n",
              "      <td>0.56</td>\n",
              "      <td>9.4</td>\n",
              "      <td>5</td>\n",
              "    </tr>\n",
              "    <tr>\n",
              "      <th>1</th>\n",
              "      <td>7.8</td>\n",
              "      <td>0.88</td>\n",
              "      <td>0.00</td>\n",
              "      <td>2.6</td>\n",
              "      <td>0.098</td>\n",
              "      <td>25.0</td>\n",
              "      <td>67.0</td>\n",
              "      <td>0.997</td>\n",
              "      <td>3.20</td>\n",
              "      <td>0.68</td>\n",
              "      <td>9.8</td>\n",
              "      <td>5</td>\n",
              "    </tr>\n",
              "    <tr>\n",
              "      <th>2</th>\n",
              "      <td>7.8</td>\n",
              "      <td>0.76</td>\n",
              "      <td>0.04</td>\n",
              "      <td>2.3</td>\n",
              "      <td>0.092</td>\n",
              "      <td>15.0</td>\n",
              "      <td>54.0</td>\n",
              "      <td>0.997</td>\n",
              "      <td>3.26</td>\n",
              "      <td>0.65</td>\n",
              "      <td>9.8</td>\n",
              "      <td>5</td>\n",
              "    </tr>\n",
              "    <tr>\n",
              "      <th>3</th>\n",
              "      <td>11.2</td>\n",
              "      <td>0.28</td>\n",
              "      <td>0.56</td>\n",
              "      <td>1.9</td>\n",
              "      <td>0.075</td>\n",
              "      <td>17.0</td>\n",
              "      <td>60.0</td>\n",
              "      <td>0.998</td>\n",
              "      <td>3.16</td>\n",
              "      <td>0.58</td>\n",
              "      <td>9.8</td>\n",
              "      <td>6</td>\n",
              "    </tr>\n",
              "    <tr>\n",
              "      <th>4</th>\n",
              "      <td>7.4</td>\n",
              "      <td>0.70</td>\n",
              "      <td>0.00</td>\n",
              "      <td>1.9</td>\n",
              "      <td>0.076</td>\n",
              "      <td>11.0</td>\n",
              "      <td>34.0</td>\n",
              "      <td>0.998</td>\n",
              "      <td>3.51</td>\n",
              "      <td>0.56</td>\n",
              "      <td>9.4</td>\n",
              "      <td>5</td>\n",
              "    </tr>\n",
              "  </tbody>\n",
              "</table>\n",
              "</div>\n",
              "      <button class=\"colab-df-convert\" onclick=\"convertToInteractive('df-4c454f92-2f46-41fd-858b-cdcefed7dc4d')\"\n",
              "              title=\"Convert this dataframe to an interactive table.\"\n",
              "              style=\"display:none;\">\n",
              "        \n",
              "  <svg xmlns=\"http://www.w3.org/2000/svg\" height=\"24px\"viewBox=\"0 0 24 24\"\n",
              "       width=\"24px\">\n",
              "    <path d=\"M0 0h24v24H0V0z\" fill=\"none\"/>\n",
              "    <path d=\"M18.56 5.44l.94 2.06.94-2.06 2.06-.94-2.06-.94-.94-2.06-.94 2.06-2.06.94zm-11 1L8.5 8.5l.94-2.06 2.06-.94-2.06-.94L8.5 2.5l-.94 2.06-2.06.94zm10 10l.94 2.06.94-2.06 2.06-.94-2.06-.94-.94-2.06-.94 2.06-2.06.94z\"/><path d=\"M17.41 7.96l-1.37-1.37c-.4-.4-.92-.59-1.43-.59-.52 0-1.04.2-1.43.59L10.3 9.45l-7.72 7.72c-.78.78-.78 2.05 0 2.83L4 21.41c.39.39.9.59 1.41.59.51 0 1.02-.2 1.41-.59l7.78-7.78 2.81-2.81c.8-.78.8-2.07 0-2.86zM5.41 20L4 18.59l7.72-7.72 1.47 1.35L5.41 20z\"/>\n",
              "  </svg>\n",
              "      </button>\n",
              "      \n",
              "  <style>\n",
              "    .colab-df-container {\n",
              "      display:flex;\n",
              "      flex-wrap:wrap;\n",
              "      gap: 12px;\n",
              "    }\n",
              "\n",
              "    .colab-df-convert {\n",
              "      background-color: #E8F0FE;\n",
              "      border: none;\n",
              "      border-radius: 50%;\n",
              "      cursor: pointer;\n",
              "      display: none;\n",
              "      fill: #1967D2;\n",
              "      height: 32px;\n",
              "      padding: 0 0 0 0;\n",
              "      width: 32px;\n",
              "    }\n",
              "\n",
              "    .colab-df-convert:hover {\n",
              "      background-color: #E2EBFA;\n",
              "      box-shadow: 0px 1px 2px rgba(60, 64, 67, 0.3), 0px 1px 3px 1px rgba(60, 64, 67, 0.15);\n",
              "      fill: #174EA6;\n",
              "    }\n",
              "\n",
              "    [theme=dark] .colab-df-convert {\n",
              "      background-color: #3B4455;\n",
              "      fill: #D2E3FC;\n",
              "    }\n",
              "\n",
              "    [theme=dark] .colab-df-convert:hover {\n",
              "      background-color: #434B5C;\n",
              "      box-shadow: 0px 1px 3px 1px rgba(0, 0, 0, 0.15);\n",
              "      filter: drop-shadow(0px 1px 2px rgba(0, 0, 0, 0.3));\n",
              "      fill: #FFFFFF;\n",
              "    }\n",
              "  </style>\n",
              "\n",
              "      <script>\n",
              "        const buttonEl =\n",
              "          document.querySelector('#df-4c454f92-2f46-41fd-858b-cdcefed7dc4d button.colab-df-convert');\n",
              "        buttonEl.style.display =\n",
              "          google.colab.kernel.accessAllowed ? 'block' : 'none';\n",
              "\n",
              "        async function convertToInteractive(key) {\n",
              "          const element = document.querySelector('#df-4c454f92-2f46-41fd-858b-cdcefed7dc4d');\n",
              "          const dataTable =\n",
              "            await google.colab.kernel.invokeFunction('convertToInteractive',\n",
              "                                                     [key], {});\n",
              "          if (!dataTable) return;\n",
              "\n",
              "          const docLinkHtml = 'Like what you see? Visit the ' +\n",
              "            '<a target=\"_blank\" href=https://colab.research.google.com/notebooks/data_table.ipynb>data table notebook</a>'\n",
              "            + ' to learn more about interactive tables.';\n",
              "          element.innerHTML = '';\n",
              "          dataTable['output_type'] = 'display_data';\n",
              "          await google.colab.output.renderOutput(dataTable, element);\n",
              "          const docLink = document.createElement('div');\n",
              "          docLink.innerHTML = docLinkHtml;\n",
              "          element.appendChild(docLink);\n",
              "        }\n",
              "      </script>\n",
              "    </div>\n",
              "  </div>\n",
              "  "
            ],
            "text/plain": [
              "   fixed acidity  volatile acidity  citric acid  residual sugar  chlorides  \\\n",
              "0       7.4             0.70           0.00            1.9         0.076     \n",
              "1       7.8             0.88           0.00            2.6         0.098     \n",
              "2       7.8             0.76           0.04            2.3         0.092     \n",
              "3      11.2             0.28           0.56            1.9         0.075     \n",
              "4       7.4             0.70           0.00            1.9         0.076     \n",
              "\n",
              "   free sulfur dioxide  total sulfur dioxide  density   pH   sulphates  \\\n",
              "0         11.0                  34.0           0.998   3.51    0.56      \n",
              "1         25.0                  67.0           0.997   3.20    0.68      \n",
              "2         15.0                  54.0           0.997   3.26    0.65      \n",
              "3         17.0                  60.0           0.998   3.16    0.58      \n",
              "4         11.0                  34.0           0.998   3.51    0.56      \n",
              "\n",
              "   alcohol  quality  \n",
              "0    9.4       5     \n",
              "1    9.8       5     \n",
              "2    9.8       5     \n",
              "3    9.8       6     \n",
              "4    9.4       5     "
            ]
          },
          "metadata": {},
          "execution_count": 2
        }
      ]
    },
    {
      "cell_type": "code",
      "source": [
        "import matplotlib.pyplot as plt\n",
        "import seaborn as sns\n",
        "\n",
        "plt.figure(figsize=(10,8))\n",
        "corr = redwine.corr()\n",
        "sns.heatmap(corr,annot=True,cmap=sns.diverging_palette(200, 10, as_cmap=True))\n",
        "plt.show()"
      ],
      "metadata": {
        "colab": {
          "base_uri": "https://localhost:8080/",
          "height": 589
        },
        "id": "ta057hH5RxYO",
        "outputId": "751dc6a1-15eb-4b1e-8b62-1ac124f6c984"
      },
      "execution_count": null,
      "outputs": [
        {
          "output_type": "execute_result",
          "data": {
            "text/plain": [
              "<matplotlib.axes._subplots.AxesSubplot at 0x7ffa03ce8c10>"
            ]
          },
          "metadata": {},
          "execution_count": 4
        },
        {
          "output_type": "display_data",
          "data": {
            "image/png": "[encoded data removed]",
            "text/plain": [
              "<Figure size 720x576 with 2 Axes>"
            ]
          },
          "metadata": {
            "needs_background": "light"
          }
        }
      ]
    },
    {
      "cell_type": "code",
      "source": [
        "plt.bar(redwine['quality'], redwine['alcohol'])\n",
        "plt.title('Relationship between alcohol and quality')\n",
        "plt.xlabel('quality')\n",
        "plt.ylabel('alcohol')\n",
        "plt.legend()\n",
        "plt.show()"
      ],
      "metadata": {
        "colab": {
          "base_uri": "https://localhost:8080/",
          "height": 313
        },
        "id": "x8fO_ai7ULre",
        "outputId": "0698e068-45d2-42af-b99b-f755525c9239"
      },
      "execution_count": null,
      "outputs": [
        {
          "output_type": "stream",
          "name": "stderr",
          "text": [
            "No handles with labels found to put in legend.\n"
          ]
        },
        {
          "output_type": "display_data",
          "data": {
            "image/png": "[encoded data removed]",
            "text/plain": [
              "<Figure size 432x288 with 1 Axes>"
            ]
          },
          "metadata": {
            "needs_background": "light"
          }
        }
      ]
    },
    {
      "cell_type": "code",
      "source": [
        "# Normalize the data [0 - 1]\n",
        "from sklearn.preprocessing import MinMaxScaler\n",
        "scaler = MinMaxScaler(feature_range=(0, 1))\n",
        "normal_redwine = scaler.fit_transform(redwine)\n",
        "normal_redwine = pandas.DataFrame(normal_redwine, columns = redwine.columns)\n",
        "print(normal_redwine.head())"
      ],
      "metadata": {
        "colab": {
          "base_uri": "https://localhost:8080/"
        },
        "id": "oOXDPhNuUXI_",
        "outputId": "bccb745a-fa0e-41f1-a52d-4942609111c1"
      },
      "execution_count": null,
      "outputs": [
        {
          "output_type": "stream",
          "name": "stdout",
          "text": [
            "   fixed acidity  volatile acidity  citric acid  residual sugar  chlorides  \\\n",
            "0      0.248            0.397          0.00           0.068        0.107     \n",
            "1      0.283            0.521          0.00           0.116        0.144     \n",
            "2      0.283            0.438          0.04           0.096        0.134     \n",
            "3      0.584            0.110          0.56           0.068        0.105     \n",
            "4      0.248            0.397          0.00           0.068        0.107     \n",
            "\n",
            "   free sulfur dioxide  total sulfur dioxide  density   pH    sulphates  \\\n",
            "0         0.141                 0.099          0.568   0.606    0.138     \n",
            "1         0.338                 0.216          0.494   0.362    0.210     \n",
            "2         0.197                 0.170          0.509   0.409    0.192     \n",
            "3         0.225                 0.191          0.582   0.331    0.150     \n",
            "4         0.141                 0.099          0.568   0.606    0.138     \n",
            "\n",
            "   alcohol  quality  \n",
            "0   0.154     0.4    \n",
            "1   0.215     0.4    \n",
            "2   0.215     0.4    \n",
            "3   0.215     0.6    \n",
            "4   0.154     0.4    \n"
          ]
        }
      ]
    },
    {
      "cell_type": "code",
      "source": [
        "redwine[\"good wine\"] = [\"yes\" if i >= 5 else \"no\" for i in redwine['quality']]"
      ],
      "metadata": {
        "id": "osDhlSjDVav8"
      },
      "execution_count": null,
      "outputs": []
    },
    {
      "cell_type": "code",
      "source": [
        "# Define inputs and ouputs (target)\n",
        "X = normal_redwine.drop([\"quality\"], axis = 1)\n",
        "y = redwine[\"good wine\"]\n",
        "#y = redwine[\"quality\"]\n",
        "\n",
        "y.value_counts()"
      ],
      "metadata": {
        "id": "XjtFko1_H4Bi",
        "colab": {
          "base_uri": "https://localhost:8080/"
        },
        "outputId": "b221250d-56fa-48ba-d394-ebaaf17e8841"
      },
      "execution_count": null,
      "outputs": [
        {
          "output_type": "execute_result",
          "data": {
            "text/plain": [
              "yes    1536\n",
              "no       63\n",
              "Name: good wine, dtype: int64"
            ]
          },
          "metadata": {},
          "execution_count": 11
        }
      ]
    },
    {
      "cell_type": "code",
      "source": [
        "# Create training/ test data split\n",
        "X_train, X_test, y_train, y_test = train_test_split(X, y, test_size=0.3, random_state=1, stratify=y)"
      ],
      "metadata": {
        "id": "JRTy4Y_Qaok8"
      },
      "execution_count": null,
      "outputs": []
    },
    {
      "cell_type": "code",
      "source": [
        "# Create the SVM model - pick linear, gaussian or polynomial kernel\n",
        "svm_classifier = SVC(kernel = 'linear', random_state = 0)\n",
        "#svm_classifier = SVC(kernel = 'rbf', gamma=0.7)\n",
        "#svm_classifier = SVC(kernel = 'poly', degree=3, gamma=\"auto\")"
      ],
      "metadata": {
        "id": "Qhu9dsvPa0qQ"
      },
      "execution_count": null,
      "outputs": []
    },
    {
      "cell_type": "code",
      "source": [
        "#Fit the model for the data\n",
        "svm_classifier.fit(X_train, y_train)"
      ],
      "metadata": {
        "colab": {
          "base_uri": "https://localhost:8080/"
        },
        "id": "LJ7AjIZaa8Fk",
        "outputId": "976a0381-2f8b-4e16-f0da-92755179aa3d"
      },
      "execution_count": null,
      "outputs": [
        {
          "output_type": "execute_result",
          "data": {
            "text/plain": [
              "SVC(kernel='linear', random_state=0)"
            ]
          },
          "metadata": {},
          "execution_count": 14
        }
      ]
    },
    {
      "cell_type": "code",
      "source": [
        "#Make the prediction\n",
        "y_pred = svm_classifier.predict(X_test)"
      ],
      "metadata": {
        "id": "jytz_h0kbAkD"
      },
      "execution_count": null,
      "outputs": []
    },
    {
      "cell_type": "code",
      "source": [
        "print(accuracy_score(y_test, y_pred))"
      ],
      "metadata": {
        "colab": {
          "base_uri": "https://localhost:8080/"
        },
        "id": "PygJ8iKbD4_1",
        "outputId": "9c72a7b9-675c-47c7-bfa2-00d5a7b087df"
      },
      "execution_count": null,
      "outputs": [
        {
          "output_type": "stream",
          "name": "stdout",
          "text": [
            "0.9604166666666667\n"
          ]
        }
      ]
    },
    {
      "cell_type": "code",
      "source": [
        "y_pred_train = svm_classifier.predict(X_train)\n",
        "print(accuracy_score(y_train, y_pred_train))"
      ],
      "metadata": {
        "colab": {
          "base_uri": "https://localhost:8080/"
        },
        "id": "kbIS6jCqXQaj",
        "outputId": "a36a8955-e960-43bc-eed4-2ce87b3e1321"
      },
      "execution_count": null,
      "outputs": [
        {
          "output_type": "stream",
          "name": "stdout",
          "text": [
            "0.9606791778373548\n"
          ]
        }
      ]
    },
    {
      "cell_type": "markdown",
      "source": [
        "Since the training accuracy (0.8641) and the cross validation score (0.8645) are close, we can conclude that no overfitting occurs."
      ],
      "metadata": {
        "id": "_AR9ZWTNXnEB"
      }
    },
    {
      "cell_type": "code",
      "source": [
        "# Show the model accuracy with standard deviation\n",
        "c_matrix = confusion_matrix(y_test, y_pred)\n",
        "print(c_matrix)\n",
        "\n",
        "accuracies = cross_val_score(estimator = svm_classifier, X = X_train, y = y_train, cv = 10)\n",
        "print(\"Accuracy: {:.2f} %\".format(accuracies.mean()*100))\n",
        "print(\"Standard Deviation: {:.2f} %\".format(accuracies.std()*100))"
      ],
      "metadata": {
        "colab": {
          "base_uri": "https://localhost:8080/"
        },
        "id": "6se5ScqrNteg",
        "outputId": "3fc39057-d5b4-4c9e-b2c0-7c783800c5be"
      },
      "execution_count": null,
      "outputs": [
        {
          "output_type": "stream",
          "name": "stdout",
          "text": [
            "[[  0  19]\n",
            " [  0 461]]\n",
            "Accuracy: 96.07 %\n",
            "Standard Deviation: 0.43 %\n"
          ]
        }
      ]
    },
    {
      "cell_type": "code",
      "source": [
        "# Explore the parameter space of \"C\" between extremes (0, 1000)\n",
        "random_grid = {\"C\": [0.001,0.01,0.1,1,10,100,1000]}\n",
        "svm_classifier_random = RandomizedSearchCV(svm_classifier, random_grid, cv=5, random_state=2020)\n",
        "svm_classifier_random.fit(X_train, y_train)\n",
        "print(svm_classifier_random.best_params_)"
      ],
      "metadata": {
        "colab": {
          "base_uri": "https://localhost:8080/"
        },
        "id": "Qc-1A1GeZb4F",
        "outputId": "138328c8-2901-41a3-c53f-66d194959771"
      },
      "execution_count": null,
      "outputs": [
        {
          "output_type": "stream",
          "name": "stderr",
          "text": [
            "/usr/local/lib/python3.7/dist-packages/sklearn/model_selection/_search.py:296: UserWarning: The total space of parameters 7 is smaller than n_iter=10. Running 7 iterations. For exhaustive searches, use GridSearchCV.\n",
            "  UserWarning,\n"
          ]
        },
        {
          "output_type": "stream",
          "name": "stdout",
          "text": [
            "{'C': 0.001}\n"
          ]
        }
      ]
    },
    {
      "cell_type": "code",
      "source": [
        "# Tune the classifier based on the observations above\n",
        "# https://scikit-learn.org/stable/modules/generated/sklearn.model_selection.GridSearchCV.html\n",
        "\n",
        "# Get the best parameter combination around the suggested C value\n",
        "#param_dist = {'C': [90,92,94,96,98,100,102,104,106], 'kernel':['linear', 'rbf','poly']}\n",
        "param_dist = {'C': [0.001, 0.002, 0.003], 'kernel':['linear', 'rbf','poly']}\n",
        "svm_classifier_cv = GridSearchCV(svm_classifier, param_dist, cv=10)\n",
        "svm_classifier_cv.fit(X_train,y_train)\n",
        "print(svm_classifier_cv.best_params_)"
      ],
      "metadata": {
        "colab": {
          "base_uri": "https://localhost:8080/"
        },
        "id": "dw4Ms6eiYBzC",
        "outputId": "c6048470-6c5f-4926-d0b4-bda8bee7c23c"
      },
      "execution_count": null,
      "outputs": [
        {
          "output_type": "stream",
          "name": "stdout",
          "text": [
            "{'C': 0.001, 'kernel': 'linear'}\n"
          ]
        }
      ]
    },
    {
      "cell_type": "code",
      "source": [
        "# Use the recommended settings to retrain the SVM classifier; compare results !\n",
        "selected_C = 0.001\n",
        "selected_kernel = \"linear\"\n",
        "\n",
        "svm_classifier_new = SVC(C = selected_C, kernel = selected_kernel, random_state = 2020)\n",
        "svm_classifier_new.fit(X_train, y_train)\n",
        "y_pred_new = svm_classifier_new.predict(X_test)\n",
        "print(accuracy_score(y_test, y_pred_new))"
      ],
      "metadata": {
        "colab": {
          "base_uri": "https://localhost:8080/"
        },
        "id": "fS40yuWxYmTw",
        "outputId": "f876f1ae-1afa-4282-e787-83e68029d2b3"
      },
      "execution_count": null,
      "outputs": [
        {
          "output_type": "stream",
          "name": "stdout",
          "text": [
            "0.9604166666666667\n"
          ]
        }
      ]
    }
  ]
}