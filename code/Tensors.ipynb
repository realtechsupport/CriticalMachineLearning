{
  "nbformat": 4,
  "nbformat_minor": 0,
  "metadata": {
    "colab": {
      "provenance": [],
      "collapsed_sections": []
    },
    "kernelspec": {
      "name": "python3",
      "display_name": "Python 3"
    },
    "language_info": {
      "name": "python"
    },
    "accelerator": "GPU"
  },
  "cells": [
    {
      "cell_type": "code",
      "metadata": {
        "id": "nWdTrVC_ttl3"
      },
      "source": [
        "# tensors tutorial\n",
        "# sources: \n",
        "# https://pytorch.org/tutorials/beginner/basics/tensorqs_tutorial.html\n",
        "# https://pytorch.org/tutorials/beginner/examples_tensor/polynomial_tensor.html\n",
        "#  ++ https://medium.com/codex/tensor-basics-in-pytorch-252a34288f2\n",
        "\n",
        "import os, sys\n",
        "import torch\n",
        "import numpy\n"
      ],
      "execution_count": null,
      "outputs": []
    },
    {
      "cell_type": "markdown",
      "source": [
        "# **CONCEPTS**\n",
        "\n",
        "In mathematics, a tensor is an algebraic object that describes a multilinear relationship between sets of algebraic objects related to a vector space. Objects that tensors may map between include vectors and scalars, and even other tensors. Tensors have become important in physics because they provide a concise mathematical framework for formulating physics problems in mechanics, electrodynamics (electromagnetic tensor...), or general relativity (stress–energy tensor...).\n",
        "[Source wikipedia].\n",
        "\n",
        "videos: \n",
        "\n",
        "https://www.youtube.com/watch?v=TvxmkZmBa-k\n",
        "\n",
        "https://www.youtube.com/watch?v=bpG3gqDM80w \n",
        "\n",
        "https://www.youtube.com/watch?v=KNZia2iRQZM\n",
        "\n"
      ],
      "metadata": {
        "id": "SsvkDgusslTC"
      }
    },
    {
      "cell_type": "markdown",
      "source": [
        "In applied machine learning, tensors are a specialized data structure that are very similar to arrays and matrices. In PyTorch, you use tensors to encode the inputs and outputs of a model, as well as the model’s parameters.\n",
        "Tensors are similar to NumPy’s ndarrays, except that tensors can run on GPUs or other hardware accelerators\n"
      ],
      "metadata": {
        "id": "FNj7i85rFk4v"
      }
    },
    {
      "cell_type": "code",
      "source": [
        "# Initiatizing a tensor with sample data [1,2] [3,4]\n",
        "data = [[1, 2],[3, 4]]\n",
        "x_data = torch.tensor(data)"
      ],
      "metadata": {
        "id": "MliRx5m--WpZ"
      },
      "execution_count": null,
      "outputs": []
    },
    {
      "cell_type": "code",
      "source": [
        "#You can create a tensor from a numpy array\n",
        "np_array = numpy.array(data)\n",
        "x_np = torch.from_numpy(np_array)"
      ],
      "metadata": {
        "id": "nyRfqS2YF4BF"
      },
      "execution_count": null,
      "outputs": []
    },
    {
      "cell_type": "code",
      "source": [
        "#You can create one tensor from another one\n",
        "x_ones = torch.ones_like(x_data) # retains the properties of x_data\n",
        "print(f\"Ones Tensor: \\n {x_ones} \\n\")\n",
        "\n",
        "x_rand = torch.rand_like(x_data, dtype=torch.float) # overrides the datatype of x_data\n",
        "print(f\"Random Tensor: \\n {x_rand} \\n\")"
      ],
      "metadata": {
        "id": "wXvo3vcYGCZ0",
        "colab": {
          "base_uri": "https://localhost:8080/"
        },
        "outputId": "2567f860-ba4d-4ac4-c3e9-e346d367e98d"
      },
      "execution_count": null,
      "outputs": [
        {
          "output_type": "stream",
          "name": "stdout",
          "text": [
            "Ones Tensor: \n",
            " tensor([[1, 1],\n",
            "        [1, 1]]) \n",
            "\n",
            "Random Tensor: \n",
            " tensor([[0.8308, 0.7168],\n",
            "        [0.7241, 0.2624]]) \n",
            "\n"
          ]
        }
      ]
    },
    {
      "cell_type": "code",
      "source": [
        "# Attribues of a tensor\n",
        "tensor = torch.rand(3,4)\n",
        "\n",
        "print(f\"Shape of tensor: {tensor.shape}\")\n",
        "print(f\"Datatype of tensor: {tensor.dtype}\")\n",
        "print(f\"Device tensor is stored on: {tensor.device}\")"
      ],
      "metadata": {
        "id": "V3VlF0KKGUTw",
        "colab": {
          "base_uri": "https://localhost:8080/"
        },
        "outputId": "e33c4ae1-ce37-4057-9bb5-2a6d67278a70"
      },
      "execution_count": null,
      "outputs": [
        {
          "output_type": "stream",
          "name": "stdout",
          "text": [
            "Shape of tensor: torch.Size([3, 4])\n",
            "Datatype of tensor: torch.float32\n",
            "Device tensor is stored on: cpu\n"
          ]
        }
      ]
    },
    {
      "cell_type": "code",
      "source": [
        "# Shape is a tuple of tensor dimensions. In the functions below, it determines the dimensionality of the output tensor.\n",
        "shape = (2,3,)\n",
        "rand_tensor = torch.rand(shape)\n",
        "ones_tensor = torch.ones(shape)\n",
        "zeros_tensor = torch.zeros(shape)\n",
        "\n",
        "print(f\"Random Tensor: \\n {rand_tensor} \\n\")\n",
        "print(f\"Ones Tensor: \\n {ones_tensor} \\n\")\n",
        "print(f\"Zeros Tensor: \\n {zeros_tensor}\")"
      ],
      "metadata": {
        "id": "0iYzVq1OGKjv",
        "colab": {
          "base_uri": "https://localhost:8080/"
        },
        "outputId": "b26782af-7fe2-4746-ebe9-5ac83aaa6a54"
      },
      "execution_count": null,
      "outputs": [
        {
          "output_type": "stream",
          "name": "stdout",
          "text": [
            "Random Tensor: \n",
            " tensor([[0.3577, 0.4274, 0.6659],\n",
            "        [0.0179, 0.1639, 0.4034]]) \n",
            "\n",
            "Ones Tensor: \n",
            " tensor([[1., 1., 1.],\n",
            "        [1., 1., 1.]]) \n",
            "\n",
            "Zeros Tensor: \n",
            " tensor([[0., 0., 0.],\n",
            "        [0., 0., 0.]])\n"
          ]
        }
      ]
    },
    {
      "cell_type": "code",
      "source": [
        "# Operations on tensors - Move your tensor to the GPU if available\n",
        "if torch.cuda.is_available():\n",
        "  tensor = tensor.to('cuda')\n",
        "  print(\"GPU available\")\n",
        "else:\n",
        "  print (\"GPU not available..\")\n"
      ],
      "metadata": {
        "id": "BoP9dephGae0",
        "colab": {
          "base_uri": "https://localhost:8080/"
        },
        "outputId": "9266eb6c-e819-478e-8ad1-50e2116cd588"
      },
      "execution_count": null,
      "outputs": [
        {
          "output_type": "stream",
          "name": "stdout",
          "text": [
            "GPU available\n"
          ]
        }
      ]
    },
    {
      "cell_type": "code",
      "source": [
        "# Operations on tensors - Standard indexing\n",
        "tensor = torch.ones(4, 4)\n",
        "print('First row: ', tensor[0])\n",
        "print('First column: ', tensor[:, 0])\n",
        "print('Last column:', tensor[..., -1])\n",
        "tensor[:,1] = 0\n",
        "print(tensor)"
      ],
      "metadata": {
        "id": "taYNjpBiGr-W",
        "colab": {
          "base_uri": "https://localhost:8080/"
        },
        "outputId": "6241582e-4285-475c-94a4-37d83ccb6128"
      },
      "execution_count": null,
      "outputs": [
        {
          "output_type": "stream",
          "name": "stdout",
          "text": [
            "First row:  tensor([1., 1., 1., 1.])\n",
            "First column:  tensor([1., 1., 1., 1.])\n",
            "Last column: tensor([1., 1., 1., 1.])\n",
            "tensor([[1., 0., 1., 1.],\n",
            "        [1., 0., 1., 1.],\n",
            "        [1., 0., 1., 1.],\n",
            "        [1., 0., 1., 1.]])\n"
          ]
        }
      ]
    },
    {
      "cell_type": "code",
      "source": [
        "# Operations on tensors - Joining tensors\n",
        "t1 = torch.cat([tensor, tensor, tensor], dim=1)\n",
        "print(t1)"
      ],
      "metadata": {
        "id": "56J2MTzOGjtE",
        "colab": {
          "base_uri": "https://localhost:8080/"
        },
        "outputId": "8e754f4a-ee27-4aa1-dccd-4c6a287288ea"
      },
      "execution_count": null,
      "outputs": [
        {
          "output_type": "stream",
          "name": "stdout",
          "text": [
            "tensor([[1., 0., 1., 1., 1., 0., 1., 1., 1., 0., 1., 1.],\n",
            "        [1., 0., 1., 1., 1., 0., 1., 1., 1., 0., 1., 1.],\n",
            "        [1., 0., 1., 1., 1., 0., 1., 1., 1., 0., 1., 1.],\n",
            "        [1., 0., 1., 1., 1., 0., 1., 1., 1., 0., 1., 1.]])\n"
          ]
        }
      ]
    },
    {
      "cell_type": "code",
      "source": [
        "# Operations on tensors - Arithmetic\n",
        "# Matrix multiplication (y2 and y3 are equivalent)\n",
        "y2 = tensor.matmul(tensor.T)\n",
        "y3 = torch.rand_like(tensor)\n",
        "torch.matmul(tensor, tensor.T, out=y3)\n",
        "print(y2)\n",
        "print(y3)\n",
        "\n",
        "\n",
        "# This computes the element-wise product. z1, z2, z3 will have the same value\n",
        "z1 = tensor * tensor\n",
        "z2 = tensor.mul(tensor)\n",
        "z3 = torch.rand_like(tensor)\n",
        "torch.mul(tensor, tensor, out=z3)\n",
        "print(z2)\n",
        "print(z3)"
      ],
      "metadata": {
        "id": "PnLs0aF_GRe3",
        "colab": {
          "base_uri": "https://localhost:8080/"
        },
        "outputId": "dd3b7de7-06f6-411c-b467-54c7d18414c4"
      },
      "execution_count": null,
      "outputs": [
        {
          "output_type": "stream",
          "name": "stdout",
          "text": [
            "tensor([[3., 3., 3., 3.],\n",
            "        [3., 3., 3., 3.],\n",
            "        [3., 3., 3., 3.],\n",
            "        [3., 3., 3., 3.]])\n",
            "tensor([[3., 3., 3., 3.],\n",
            "        [3., 3., 3., 3.],\n",
            "        [3., 3., 3., 3.],\n",
            "        [3., 3., 3., 3.]])\n",
            "tensor([[1., 0., 1., 1.],\n",
            "        [1., 0., 1., 1.],\n",
            "        [1., 0., 1., 1.],\n",
            "        [1., 0., 1., 1.]])\n",
            "tensor([[1., 0., 1., 1.],\n",
            "        [1., 0., 1., 1.],\n",
            "        [1., 0., 1., 1.],\n",
            "        [1., 0., 1., 1.]])\n"
          ]
        }
      ]
    },
    {
      "cell_type": "code",
      "source": [
        "# Operations on tensors - in place operations  denoted by a _ suffix)\n",
        "print(tensor, \"\\n\")\n",
        "tensor.add_(5)\n",
        "print(tensor)"
      ],
      "metadata": {
        "id": "ZSy9ZDoZHVlS",
        "colab": {
          "base_uri": "https://localhost:8080/"
        },
        "outputId": "afe5d590-41a0-452b-a0ff-f81773cf0910"
      },
      "execution_count": null,
      "outputs": [
        {
          "output_type": "stream",
          "name": "stdout",
          "text": [
            "tensor([[1., 0., 1., 1.],\n",
            "        [1., 0., 1., 1.],\n",
            "        [1., 0., 1., 1.],\n",
            "        [1., 0., 1., 1.]]) \n",
            "\n",
            "tensor([[6., 5., 6., 6.],\n",
            "        [6., 5., 6., 6.],\n",
            "        [6., 5., 6., 6.],\n",
            "        [6., 5., 6., 6.]])\n"
          ]
        }
      ]
    },
    {
      "cell_type": "code",
      "source": [
        "# Operations on tensors - convert back to a numerical value\n",
        "\n",
        "t = torch.ones(5)\n",
        "print(f\"t: {t}\")\n",
        "n = t.numpy()\n",
        "print(f\"n: {n}\")"
      ],
      "metadata": {
        "colab": {
          "base_uri": "https://localhost:8080/"
        },
        "id": "hMO4SaRqHHN_",
        "outputId": "4f7e13f0-f49a-4dff-b87e-c26b9b8a959a"
      },
      "execution_count": null,
      "outputs": [
        {
          "output_type": "stream",
          "name": "stdout",
          "text": [
            "t: tensor([1., 1., 1., 1., 1.])\n",
            "n: [1. 1. 1. 1. 1.]\n"
          ]
        }
      ]
    },
    {
      "cell_type": "code",
      "source": [
        "# Convert numpy arrays to tensor\n",
        "n = numpy.ones(5)\n",
        "t = torch.from_numpy(n)\n",
        "print(f\"n: {n}\")\n",
        "print(f\"t: {t}\")"
      ],
      "metadata": {
        "colab": {
          "base_uri": "https://localhost:8080/"
        },
        "id": "FJcxX-CuHrR6",
        "outputId": "e218504a-08b8-4d85-d0b3-a01d2a7e7955"
      },
      "execution_count": null,
      "outputs": [
        {
          "output_type": "stream",
          "name": "stdout",
          "text": [
            "n: [1. 1. 1. 1. 1.]\n",
            "t: tensor([1., 1., 1., 1., 1.], dtype=torch.float64)\n"
          ]
        }
      ]
    },
    {
      "cell_type": "code",
      "source": [
        "ndata = [1,2,3]\n",
        "ndata_tensor = torch.tensor(ndata)\n",
        "print(ndata_tensor)"
      ],
      "metadata": {
        "colab": {
          "base_uri": "https://localhost:8080/"
        },
        "id": "vRRBPaYAdviY",
        "outputId": "53942841-e353-4f7c-cc23-22d2649dd13e"
      },
      "execution_count": null,
      "outputs": [
        {
          "output_type": "stream",
          "name": "stdout",
          "text": [
            "tensor([1, 2, 3])\n"
          ]
        }
      ]
    }
  ]
}