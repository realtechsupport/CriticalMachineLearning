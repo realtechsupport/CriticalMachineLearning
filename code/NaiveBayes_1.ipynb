{
  "nbformat": 4,
  "nbformat_minor": 0,
  "metadata": {
    "colab": {
      "provenance": [],
      "collapsed_sections": []
    },
    "kernelspec": {
      "name": "python3",
      "display_name": "Python 3"
    },
    "language_info": {
      "name": "python"
    }
  },
  "cells": [
    {
      "cell_type": "code",
      "metadata": {
        "id": "RmJik6IatA7h"
      },
      "source": [
        "# Implement Naive Bayes algorithm with a simple example\n",
        "# references\n",
        "# https://blog.paperspace.com/introduction-to-naive-bayes/\n",
        "# https://contactsunny.medium.com/label-encoder-vs-one-hot-encoder-in-machine-learning-3fc273365621\n",
        "\n",
        "# intro to the conditional probability background concepts\n",
        "# https://stackabuse.com/the-naive-bayes-algorithm-in-python-with-scikit-learn/ \n",
        "\n",
        "# April 2021"
      ],
      "execution_count": null,
      "outputs": []
    },
    {
      "cell_type": "code",
      "metadata": {
        "colab": {
          "base_uri": "https://localhost:8080/",
          "height": 17
        },
        "id": "72Aj7n7MtziT",
        "outputId": "02d0ea28-adfb-40b5-e077-89bd0ef98a0e"
      },
      "source": [
        "import sys\n",
        "#clear all variables (from last session)\n",
        "sys.modules[__name__].__dict__.clear()\n",
        "import os, sys, time, random, itertools, shutil\n",
        "from IPython.core.display import display, HTML\n",
        "display(HTML(\"<style>.container { width:100% !important; }</style>\"))"
      ],
      "execution_count": null,
      "outputs": [
        {
          "output_type": "display_data",
          "data": {
            "text/html": [
              "<style>.container { width:100% !important; }</style>"
            ],
            "text/plain": [
              "<IPython.core.display.HTML object>"
            ]
          },
          "metadata": {}
        }
      ]
    },
    {
      "cell_type": "code",
      "metadata": {
        "id": "dWAK6D2aEe3s"
      },
      "source": [
        "# Here we will work with a toy example\n",
        "# Make some synthetic data: 2D weather data (weather and temperature) and labels ( conditions for a play date: yes, no)\n",
        "# Assigning features and label variables\n",
        "\n",
        "weather = ['Sunny','Sunny','Overcast','Rainy','Rainy','Rainy','Overcast','Sunny','Sunny','Rainy','Sunny','Overcast','Overcast','Rainy']\n",
        "temp = ['Hot','Hot','Hot','Mild','Cool','Cool','Cool','Mild','Cool','Mild','Mild','Mild','Hot','Mild']\n",
        "playdate = ['No','No','Yes','Yes','Yes','No','Yes','No','Yes','Yes','Yes','Yes','Yes','No']"
      ],
      "execution_count": null,
      "outputs": []
    },
    {
      "cell_type": "code",
      "source": [
        "#alternative using pandas ---------------------- see Albon p 81ff\n",
        "import pandas\n",
        "df_weather = pandas.DataFrame({\"weather_data\":weather})\n",
        "df_temp = pandas.DataFrame({\"temp_data\":temp})\n",
        "df_playdate = pandas.DataFrame({\"playdate_data\":playdate})"
      ],
      "metadata": {
        "id": "owhhWMu89rVV"
      },
      "execution_count": null,
      "outputs": []
    },
    {
      "cell_type": "code",
      "source": [
        "weather_scale_mapper = {\"Sunny\":2, \"Rainy\":1, \"Overcast\":0}\n",
        "temp_scale_mapper = {\"Hot\":2, \"Cool\":1, \"Mild\":0}\n",
        "playdate_scale_mapper = {\"Yes\":1, \"No\":0}"
      ],
      "metadata": {
        "id": "6RoUbMIZ-XjX"
      },
      "execution_count": null,
      "outputs": []
    },
    {
      "cell_type": "code",
      "source": [
        "df_weather[\"weather_data\"].replace(weather_scale_mapper)\n",
        "df_temp[\"temp_data\"].replace(temp_scale_mapper)\n",
        "df_playdate[\"playdate_data\"].replace(playdate_scale_mapper)\n",
        "\n",
        "print(df_weather[\"weather_data\"])\n",
        "print(df_weather[\"weather_data\"].replace(weather_scale_mapper))\n",
        "\n",
        "#----------------------------------------------------"
      ],
      "metadata": {
        "colab": {
          "base_uri": "https://localhost:8080/"
        },
        "id": "NZcueVIu_Ltu",
        "outputId": "b15574ef-2a59-453c-a31c-00f9d7ce3668"
      },
      "execution_count": null,
      "outputs": [
        {
          "output_type": "stream",
          "name": "stdout",
          "text": [
            "0        Sunny\n",
            "1        Sunny\n",
            "2     Overcast\n",
            "3        Rainy\n",
            "4        Rainy\n",
            "5        Rainy\n",
            "6     Overcast\n",
            "7        Sunny\n",
            "8        Sunny\n",
            "9        Rainy\n",
            "10       Sunny\n",
            "11    Overcast\n",
            "12    Overcast\n",
            "13       Rainy\n",
            "Name: weather_data, dtype: object\n",
            "0     2\n",
            "1     2\n",
            "2     0\n",
            "3     1\n",
            "4     1\n",
            "5     1\n",
            "6     0\n",
            "7     2\n",
            "8     2\n",
            "9     1\n",
            "10    2\n",
            "11    0\n",
            "12    0\n",
            "13    1\n",
            "Name: weather_data, dtype: int64\n"
          ]
        }
      ]
    },
    {
      "cell_type": "code",
      "metadata": {
        "colab": {
          "base_uri": "https://localhost:8080/"
        },
        "id": "Rt4YxotWElxl",
        "outputId": "604b3908-021e-438d-aed8-3d4f074e78f2"
      },
      "source": [
        "# Import sklearn and the LabelEncoder\n",
        "from sklearn import preprocessing\n",
        "import numpy\n",
        "\n",
        "# Create labelEncoder\n",
        "le = preprocessing.LabelEncoder()\n",
        "\n",
        "# Convert string labels into numbers.\n",
        "weather_encoded=le.fit_transform(weather)\n",
        "\n",
        "print('Weather encoded:', weather_encoded)"
      ],
      "execution_count": null,
      "outputs": [
        {
          "output_type": "stream",
          "name": "stdout",
          "text": [
            "Weather encoded: [2 2 0 1 1 1 0 2 2 1 2 0 0 1]\n"
          ]
        }
      ]
    },
    {
      "cell_type": "code",
      "metadata": {
        "colab": {
          "base_uri": "https://localhost:8080/"
        },
        "id": "rEzyi5KGExY9",
        "outputId": "a0e862e1-78f0-4f5f-ec18-7bd5af32680f"
      },
      "source": [
        "# Convert string labels into numbers\n",
        "temp_encoded = le.fit_transform(temp)\n",
        "playdate_encoded = le.fit_transform(playdate)\n",
        "\n",
        "print(\"Temperature encoded:\",temp_encoded)\n",
        "print(\"Play date encoded:\", playdate_encoded)"
      ],
      "execution_count": null,
      "outputs": [
        {
          "output_type": "stream",
          "name": "stdout",
          "text": [
            "Temperature encoded: [1 1 1 2 0 0 0 2 0 2 2 2 1 2]\n",
            "Play date encoded: [0 0 1 1 1 0 1 0 1 1 1 1 1 0]\n"
          ]
        }
      ]
    },
    {
      "cell_type": "code",
      "metadata": {
        "id": "-Gems4WnFfL8",
        "colab": {
          "base_uri": "https://localhost:8080/"
        },
        "outputId": "7ee8fc8d-feb4-40f4-8341-9c2c388756cc"
      },
      "source": [
        "# stack the input data pairwise\n",
        "# https://www.pythonprogramming.in/joining-and-stacking-of-numpy-arrays.html\n",
        "com = numpy.dstack((weather_encoded, temp_encoded))\n",
        "combo = com[0]\n",
        "print(combo)"
      ],
      "execution_count": null,
      "outputs": [
        {
          "output_type": "stream",
          "name": "stdout",
          "text": [
            "[[2 1]\n",
            " [2 1]\n",
            " [0 1]\n",
            " [1 2]\n",
            " [1 0]\n",
            " [1 0]\n",
            " [0 0]\n",
            " [2 2]\n",
            " [2 0]\n",
            " [1 2]\n",
            " [2 2]\n",
            " [0 2]\n",
            " [0 1]\n",
            " [1 2]]\n"
          ]
        }
      ]
    },
    {
      "cell_type": "code",
      "metadata": {
        "colab": {
          "base_uri": "https://localhost:8080/"
        },
        "id": "neeFu4iuHKko",
        "outputId": "3d79c24c-bc91-4d00-f2c5-7cac8a26a90d"
      },
      "source": [
        "# Import Gaussian Naive Bayes model\n",
        "from sklearn.naive_bayes import GaussianNB\n",
        "\n",
        "# Create a Gaussian Classifier\n",
        "model = GaussianNB()\n",
        "\n",
        "# Train the model using the training sets\n",
        "model.fit(combo, playdate_encoded)\n",
        "print()"
      ],
      "execution_count": null,
      "outputs": [
        {
          "output_type": "stream",
          "name": "stdout",
          "text": [
            "\n"
          ]
        }
      ]
    },
    {
      "cell_type": "code",
      "source": [
        "# Predict output based on the training data\n",
        "# weather overcast (0) and temp mild (2) -> yes (1)\n",
        "# weather sunny (2) and temp hot (1) -> no (0)\n",
        "#-------------------------------------------------------------------------------\n",
        "input_weather =  0   \n",
        "input_temp =   2     \n",
        "\n",
        "predicted = model.predict([[input_weather, input_temp]]) \n",
        "\n",
        "if(predicted[0] == 1):\n",
        "  result = 'yes'\n",
        "elif(predicted[0] == 0):\n",
        "  result = 'no'\n",
        "\n",
        "print(\"Play date given these conditions, yes or no? Prediction says:\", result)"
      ],
      "metadata": {
        "colab": {
          "base_uri": "https://localhost:8080/"
        },
        "id": "Lj-zdlutdId6",
        "outputId": "7b177de5-d772-4a05-bdb1-dc5a0c6d4549"
      },
      "execution_count": null,
      "outputs": [
        {
          "output_type": "stream",
          "name": "stdout",
          "text": [
            "Play date given these conditions, yes or no? Prediction says: yes\n"
          ]
        }
      ]
    },
    {
      "cell_type": "markdown",
      "metadata": {
        "id": "rQpB4NN5Wo5_"
      },
      "source": [
        "advantages of naive bayes classification:\n",
        "- fast\n",
        "- easy to interpret\n",
        "- few things to 'adjust'\n",
        "- works on multi-class prediction\n",
        "- works with numerical and categorical data\n",
        "- numerical data is assumed to be normally distributed\n",
        "\n",
        "disadvantages of naive bayes classification:\n",
        "- test data not represented in the training data will generate a zero probability of occurance\n",
        "-  features are assumed to be independent (usually not completely true)\n",
        "\n",
        "typical applications:\n",
        "- text classification, spam filtering, sentiment analysis, simple recommendation systems"
      ]
    },
    {
      "cell_type": "code",
      "metadata": {
        "id": "g76116QpXaq_"
      },
      "source": [],
      "execution_count": null,
      "outputs": []
    }
  ]
}