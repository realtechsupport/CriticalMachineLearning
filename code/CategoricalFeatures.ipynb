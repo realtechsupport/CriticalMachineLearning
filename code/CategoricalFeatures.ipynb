{
  "nbformat": 4,
  "nbformat_minor": 0,
  "metadata": {
    "colab": {
      "provenance": [],
      "collapsed_sections": []
    },
    "kernelspec": {
      "name": "python3",
      "display_name": "Python 3"
    },
    "language_info": {
      "name": "python"
    }
  },
  "cells": [
    {
      "cell_type": "code",
      "metadata": {
        "id": "RmJik6IatA7h"
      },
      "source": [
        "# Nominal and Ordinal Categorical Features\n",
        "# references\n",
        "# Albon, Machine Learning Cookbook\n",
        "# March 2022"
      ],
      "execution_count": null,
      "outputs": []
    },
    {
      "cell_type": "code",
      "metadata": {
        "colab": {
          "base_uri": "https://localhost:8080/",
          "height": 17
        },
        "id": "72Aj7n7MtziT",
        "outputId": "75dd2441-5a55-40f9-ea35-3e573b78db14"
      },
      "source": [
        "import sys\n",
        "#clear all variables (from last session)\n",
        "sys.modules[__name__].__dict__.clear()\n",
        "import os, sys, time, random, itertools, shutil\n",
        "from IPython.core.display import display, HTML\n",
        "display(HTML(\"<style>.container { width:100% !important; }</style>\"))"
      ],
      "execution_count": null,
      "outputs": [
        {
          "output_type": "display_data",
          "data": {
            "text/html": [
              "<style>.container { width:100% !important; }</style>"
            ],
            "text/plain": [
              "<IPython.core.display.HTML object>"
            ]
          },
          "metadata": {}
        }
      ]
    },
    {
      "cell_type": "code",
      "source": [
        "# Import libraries\n",
        "import numpy \n",
        "from sklearn.preprocessing import LabelBinarizer, MultiLabelBinarizer"
      ],
      "metadata": {
        "id": "n6uaOAjJA665"
      },
      "execution_count": null,
      "outputs": []
    },
    {
      "cell_type": "code",
      "source": [
        "# Create feature\n",
        "feature = numpy.array([[\"Apples\"],[\"Pears\"],[\"Cherries\"],[\"Grapes\"],[\"Oranges\"], [\"Pineaple\"], [\"Jackfruit\"]])\n",
        "playdate2 = numpy.array([['No'],['No'],['Yes'],['Yes'],['Yes'],['No'],['Yes'],['No'],['Yes'],['Yes'],['Yes'],['Yes'],['Yes'],['No']])"
      ],
      "metadata": {
        "id": "bcBleUZYR0bK"
      },
      "execution_count": null,
      "outputs": []
    },
    {
      "cell_type": "code",
      "source": [
        "# Create one-hot encoder\n",
        "one_hot = LabelBinarizer()\n",
        "one_hot2 = LabelBinarizer()\n",
        "\n",
        "# One-hot encode feature\n",
        "one_hot_feature = one_hot.fit_transform(feature)\n",
        "one_hot_feature2 = one_hot.fit_transform(playdate2)\n",
        "print(one_hot_feature)\n",
        "print(one_hot_feature2)"
      ],
      "metadata": {
        "colab": {
          "base_uri": "https://localhost:8080/"
        },
        "id": "LwLdkIRrBK01",
        "outputId": "c4b8a245-ee45-4965-ee22-95023c4aaad7"
      },
      "execution_count": null,
      "outputs": [
        {
          "output_type": "stream",
          "name": "stdout",
          "text": [
            "[[1 0 0 0 0 0 0]\n",
            " [0 0 0 0 0 1 0]\n",
            " [0 1 0 0 0 0 0]\n",
            " [0 0 1 0 0 0 0]\n",
            " [0 0 0 0 1 0 0]\n",
            " [0 0 0 0 0 0 1]\n",
            " [0 0 0 1 0 0 0]]\n",
            "[[0]\n",
            " [0]\n",
            " [1]\n",
            " [1]\n",
            " [1]\n",
            " [0]\n",
            " [1]\n",
            " [0]\n",
            " [1]\n",
            " [1]\n",
            " [1]\n",
            " [1]\n",
            " [1]\n",
            " [0]]\n"
          ]
        }
      ]
    },
    {
      "cell_type": "code",
      "source": [
        "# Get the classes again\n",
        "print(one_hot.classes_)"
      ],
      "metadata": {
        "colab": {
          "base_uri": "https://localhost:8080/"
        },
        "id": "2Zpoo9gNBvCs",
        "outputId": "372444f4-77fe-4ef4-bebc-ce45949157af"
      },
      "execution_count": null,
      "outputs": [
        {
          "output_type": "stream",
          "name": "stdout",
          "text": [
            "['Apples' 'Cherries' 'Grapes' 'Jackfruit' 'Oranges' 'Pears' 'Pineaple']\n"
          ]
        }
      ]
    },
    {
      "cell_type": "code",
      "source": [
        "# What about multiple  classes?\n",
        "multiclass_feature = [(\"Apples\", \"Oranges\"),(\"Cherries\", \"Apples\"),(\"Oranges\", \"Grapes\"),(\"Grapes\", \"Apples\"),(\"Apples\", \"Pears\")]"
      ],
      "metadata": {
        "id": "Gr7C5et7B-qt"
      },
      "execution_count": null,
      "outputs": []
    },
    {
      "cell_type": "code",
      "source": [
        "# Create multiclass one-hot encoder\n",
        "one_hot_multiclass = MultiLabelBinarizer()\n",
        "\n",
        "# One-hot encode multiclass feature\n",
        "one_hot_multiclass_features = one_hot_multiclass.fit_transform(multiclass_feature)\n",
        "print(one_hot_multiclass_features)"
      ],
      "metadata": {
        "colab": {
          "base_uri": "https://localhost:8080/"
        },
        "id": "o6YYlszGCXLA",
        "outputId": "96740545-9c57-4624-a224-145379a6bba7"
      },
      "execution_count": null,
      "outputs": [
        {
          "output_type": "stream",
          "name": "stdout",
          "text": [
            "[[1 0 0 1 0]\n",
            " [1 1 0 0 0]\n",
            " [0 0 1 1 0]\n",
            " [1 0 1 0 0]\n",
            " [1 0 0 0 1]]\n"
          ]
        }
      ]
    },
    {
      "cell_type": "code",
      "source": [
        "# Get the labels again\n",
        "print(one_hot_multiclass.classes_)"
      ],
      "metadata": {
        "colab": {
          "base_uri": "https://localhost:8080/"
        },
        "id": "9h9UrF5ZCrNn",
        "outputId": "e9677b32-fa1d-4de1-9aea-ffa5748f0863"
      },
      "execution_count": null,
      "outputs": [
        {
          "output_type": "stream",
          "name": "stdout",
          "text": [
            "['Apples' 'Cherries' 'Grapes' 'Oranges' 'Pears']\n"
          ]
        }
      ]
    },
    {
      "cell_type": "code",
      "source": [
        "# Ordinal Categorical Features\n",
        "\n",
        "weather = ['Sunny','Sunny','Overcast','Rainy','Rainy','Rainy','Overcast','Sunny','Sunny','Rainy','Sunny','Overcast','Overcast','Rainy']\n",
        "temp = ['Hot','Hot','Hot','Mild','Cool','Cool','Cool','Mild','Cool','Mild','Mild','Mild','Hot','Mild']\n",
        "playdate = ['No','No','Yes','Yes','Yes','No','Yes','No','Yes','Yes','Yes','Yes','Yes','No']\n"
      ],
      "metadata": {
        "id": "GYpCWYndDJYa"
      },
      "execution_count": null,
      "outputs": []
    },
    {
      "cell_type": "code",
      "source": [
        "import pandas\n",
        "df_weather = pandas.DataFrame({\"weather_data\":weather})\n",
        "df_temp = pandas.DataFrame({\"temp_data\":temp})\n",
        "df_playdate = pandas.DataFrame({\"playdate_data\":playdate})"
      ],
      "metadata": {
        "id": "7ihwnbq4DY5r"
      },
      "execution_count": null,
      "outputs": []
    },
    {
      "cell_type": "code",
      "source": [
        "weather_scale_mapper = {\"Sunny\":2, \"Rainy\":1, \"Overcast\":0}\n",
        "temp_scale_mapper = {\"Hot\":2, \"Cool\":1, \"Mild\":0}\n",
        "playdate_scale_mapper = {\"Yes\":1, \"No\":0}"
      ],
      "metadata": {
        "id": "XR0ykTwTDcEd"
      },
      "execution_count": null,
      "outputs": []
    },
    {
      "cell_type": "code",
      "source": [
        "df_weather[\"weather_data\"].replace(weather_scale_mapper)\n",
        "df_temp[\"temp_data\"].replace(temp_scale_mapper)\n",
        "df_playdate[\"playdate_data\"].replace(playdate_scale_mapper)\n",
        "\n",
        "print(df_weather[\"weather_data\"])\n",
        "print(df_weather[\"weather_data\"].replace(weather_scale_mapper))"
      ],
      "metadata": {
        "colab": {
          "base_uri": "https://localhost:8080/"
        },
        "id": "TAzFDqM7DgHk",
        "outputId": "6087d0a1-5b26-4bb5-885b-c08eb9671e0c"
      },
      "execution_count": null,
      "outputs": [
        {
          "output_type": "stream",
          "name": "stdout",
          "text": [
            "0        Sunny\n",
            "1        Sunny\n",
            "2     Overcast\n",
            "3        Rainy\n",
            "4        Rainy\n",
            "5        Rainy\n",
            "6     Overcast\n",
            "7        Sunny\n",
            "8        Sunny\n",
            "9        Rainy\n",
            "10       Sunny\n",
            "11    Overcast\n",
            "12    Overcast\n",
            "13       Rainy\n",
            "Name: weather_data, dtype: object\n",
            "0     2\n",
            "1     2\n",
            "2     0\n",
            "3     1\n",
            "4     1\n",
            "5     1\n",
            "6     0\n",
            "7     2\n",
            "8     2\n",
            "9     1\n",
            "10    2\n",
            "11    0\n",
            "12    0\n",
            "13    1\n",
            "Name: weather_data, dtype: int64\n"
          ]
        }
      ]
    }
  ]
}